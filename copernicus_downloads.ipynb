{
 "cells": [
  {
   "cell_type": "code",
   "execution_count": 1,
   "metadata": {},
   "outputs": [],
   "source": [
    "import copernicusmarine as cm"
   ]
  },
  {
   "cell_type": "code",
   "execution_count": 2,
   "metadata": {},
   "outputs": [
    {
     "name": "stdout",
     "output_type": "stream",
     "text": [
      "username:"
     ]
    }
   ],
   "source": [
    "cm.subset(\n",
    "  dataset_id=\"med-hcmr-wav-rean-h\",\n",
    "  dataset_version=\"202105\",\n",
    "  variables=[\"VHM0\", \"VHM0_SW1\", \"VHM0_SW2\", \"VHM0_WW\", \"VMDR\", \"VMDR_SW1\", \"VMDR_SW2\", \"VMDR_WW\", \"VPED\", \"VSDX\", \"VSDY\", \"VTM01_SW1\", \"VTM01_SW2\", \"VTM01_WW\", \"VTM02\", \"VTM10\", \"VTPK\"],\n",
    "  minimum_longitude=25.84,\n",
    "  maximum_longitude=26.0,\n",
    "  minimum_latitude=37.05,\n",
    "  maximum_latitude=37.15,\n",
    "  start_datetime=\"2021-07-31T23:00:00\",\n",
    "  end_datetime=\"2022-07-31T23:00:00\",\n",
    "\n",
    ")"
   ]
  }
 ],
 "metadata": {
  "kernelspec": {
   "display_name": ".venv",
   "language": "python",
   "name": "python3"
  },
  "language_info": {
   "codemirror_mode": {
    "name": "ipython",
    "version": 3
   },
   "file_extension": ".py",
   "mimetype": "text/x-python",
   "name": "python",
   "nbconvert_exporter": "python",
   "pygments_lexer": "ipython3",
   "version": "3.11.7"
  }
 },
 "nbformat": 4,
 "nbformat_minor": 2
}
